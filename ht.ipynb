{
 "cells": [
  {
   "cell_type": "code",
   "execution_count": 141,
   "metadata": {},
   "outputs": [],
   "source": [
    "# Importar librerías Generales\n",
    "\n",
    "import pandas as pd\n",
    "from matplotlib import pyplot as plt\n",
    "%matplotlib inline"
   ]
  },
  {
   "cell_type": "markdown",
   "metadata": {},
   "source": [
    "## Haga una exploración rápida de sus datos, para eso haga un resumen de su conjunto de datos."
   ]
  },
  {
   "cell_type": "code",
   "execution_count": 142,
   "metadata": {},
   "outputs": [],
   "source": [
    "# Lectura de datos\n",
    "df = pd.read_csv('movies.csv')"
   ]
  },
  {
   "cell_type": "code",
   "execution_count": 143,
   "metadata": {},
   "outputs": [
    {
     "data": {
      "text/plain": [
       "Index(['id', 'budget', 'genres', 'homePage', 'productionCompany',\n",
       "       'productionCompanyCountry', 'productionCountry', 'revenue', 'runtime',\n",
       "       'video', 'director', 'actors', 'actorsPopularity', 'actorsCharacter',\n",
       "       'originalTitle', 'title', 'originalLanguage', 'popularity',\n",
       "       'releaseDate', 'voteAvg', 'voteCount', 'genresAmount',\n",
       "       'productionCoAmount', 'productionCountriesAmount', 'actorsAmount',\n",
       "       'castWomenAmount', 'castMenAmount'],\n",
       "      dtype='object')"
      ]
     },
     "execution_count": 143,
     "metadata": {},
     "output_type": "execute_result"
    }
   ],
   "source": [
    "df.columns\n"
   ]
  },
  {
   "cell_type": "code",
   "execution_count": 144,
   "metadata": {},
   "outputs": [
    {
     "name": "stdout",
     "output_type": "stream",
     "text": [
      "object\n"
     ]
    }
   ],
   "source": [
    "# pre procesamiento de datos en el dataframe\n",
    "df['id'] = df['id'].astype(str)\n",
    "print(df['id'].dtype)\n",
    "df['budget'] = pd.to_numeric(df['budget'], errors='coerce')\n",
    "df['genres'] = df['genres'].str.split('|')\n",
    "df['homePage'] = df['homePage'].astype(str)\n",
    "df['productionCompany'] = df['productionCompany'].str.split('|')\n",
    "df['productionCompanyCountry'] = df['productionCompanyCountry'].str.split('|')\n",
    "df['productionCountry'] = df['productionCountry'].str.split('|')\n",
    "df['revenue'] = pd.to_numeric(df['revenue'], errors='coerce')\n",
    "df['runtime'] = pd.to_numeric(df['runtime'], errors='coerce')\n",
    "df['video'] = df['video'].astype(bool)\n",
    "df['director'] = df['director'].str.split('|')\n",
    "df['actors'] = df['actors'].str.split('|')\n",
    "df['actorsPopularity'] = df['actorsPopularity'].str.split('|')\n",
    "df['actorsCharacter'] = df['actorsCharacter'].str.split('|')\n",
    "df['originalTitle'] = df['originalTitle'].astype(str)\n",
    "df['title'] = df['title'].astype(str)\n",
    "\n",
    "# mora te tocan las columnas que son listas\n"
   ]
  },
  {
   "cell_type": "code",
   "execution_count": 146,
   "metadata": {},
   "outputs": [
    {
     "name": "stdout",
     "output_type": "stream",
     "text": [
      "<class 'pandas.core.series.Series'>\n",
      "<class 'pandas.core.series.Series'>\n"
     ]
    }
   ],
   "source": [
    "df['id'] = str(df['id'])\n",
    "print(type(df['id'].values[0]))\n",
    "df['budget'] = pd.to_numeric(df['budget'], errors='coerce')\n",
    "print(type(df['budget'].values[0]))"
   ]
  },
  {
   "cell_type": "code",
   "execution_count": null,
   "metadata": {},
   "outputs": [
    {
     "name": "stdout",
     "output_type": "stream",
     "text": [
      "<class 'pandas.core.frame.DataFrame'>\n",
      "RangeIndex: 10001 entries, 0 to 10000\n",
      "Data columns (total 27 columns):\n",
      " #   Column                     Non-Null Count  Dtype  \n",
      "---  ------                     --------------  -----  \n",
      " 0   id                         10001 non-null  object \n",
      " 1   budget                     10000 non-null  float64\n",
      " 2   genres                     9948 non-null   object \n",
      " 3   homePage                   10001 non-null  object \n",
      " 4   productionCompany          9544 non-null   object \n",
      " 5   productionCompanyCountry   8721 non-null   object \n",
      " 6   productionCountry          9768 non-null   object \n",
      " 7   revenue                    10001 non-null  int64  \n",
      " 8   runtime                    10001 non-null  int64  \n",
      " 9   video                      10001 non-null  bool   \n",
      " 10  director                   9927 non-null   object \n",
      " 11  actors                     9921 non-null   object \n",
      " 12  actorsPopularity           9914 non-null   object \n",
      " 13  actorsCharacter            9954 non-null   object \n",
      " 14  originalTitle              10001 non-null  object \n",
      " 15  title                      9999 non-null   object \n",
      " 16  originalLanguage           9999 non-null   object \n",
      " 17  popularity                 9999 non-null   float64\n",
      " 18  releaseDate                9999 non-null   object \n",
      " 19  voteAvg                    9999 non-null   float64\n",
      " 20  voteCount                  9999 non-null   float64\n",
      " 21  genresAmount               9999 non-null   float64\n",
      " 22  productionCoAmount         9999 non-null   float64\n",
      " 23  productionCountriesAmount  9999 non-null   float64\n",
      " 24  actorsAmount               9999 non-null   float64\n",
      " 25  castWomenAmount            9999 non-null   object \n",
      " 26  castMenAmount              9999 non-null   object \n",
      "dtypes: bool(1), float64(8), int64(2), object(16)\n",
      "memory usage: 2.0+ MB\n"
     ]
    }
   ],
   "source": [
    "# Reporte de columnas. \n",
    "# nombre de la columna, tipo de dato, ejemplo. \n",
    "df.info()\n"
   ]
  },
  {
   "cell_type": "markdown",
   "metadata": {},
   "source": [
    "El dataset obtenido de 'movies.csv' presenta información sobre 1000 películas diferentes. Presenta 27 variables (columnas) de tipo y rango variado. "
   ]
  }
 ],
 "metadata": {
  "kernelspec": {
   "display_name": "Python 3",
   "language": "python",
   "name": "python3"
  },
  "language_info": {
   "codemirror_mode": {
    "name": "ipython",
    "version": 3
   },
   "file_extension": ".py",
   "mimetype": "text/x-python",
   "name": "python",
   "nbconvert_exporter": "python",
   "pygments_lexer": "ipython3",
   "version": "3.11.4"
  }
 },
 "nbformat": 4,
 "nbformat_minor": 2
}
